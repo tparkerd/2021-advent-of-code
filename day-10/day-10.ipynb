{
 "cells": [
  {
   "cell_type": "code",
   "execution_count": 30,
   "metadata": {},
   "outputs": [
    {
     "name": "stdout",
     "output_type": "stream",
     "text": [
      "result=243939\n"
     ]
    }
   ],
   "source": [
    "fpath = 'input.txt'\n",
    "# fpath = 'test.txt'\n",
    "with open(fpath, 'r') as ifp:\n",
    "    lines = [list(l.strip()) for l in ifp.readlines()]\n",
    "\n",
    "lines\n",
    "\n",
    "scores = {\n",
    "    \")\": 3,\n",
    "    \"]\": 57,\n",
    "    \"}\": 1197,\n",
    "    \">\": 25137\n",
    "}\n",
    "\n",
    "openers = [ '(', '[', '{', '<' ]\n",
    "closers = list(scores.keys())\n",
    "# print(f\"{openers=}\")\n",
    "# print(f\"{closers=}\")\n",
    "\n",
    "def score_corrupted_line(line):\n",
    "    stack = []\n",
    "    for character in line:\n",
    "        # print(f\"{character=}\")\n",
    "        # Case: open a chunk\n",
    "        if character in openers:\n",
    "            stack.append(character)\n",
    "        elif character in closers:\n",
    "            last_character = stack[len(stack)-1]\n",
    "            # Chunk in correctly closed!\n",
    "            if last_character == openers[closers.index(character)]:\n",
    "                stack.pop()\n",
    "            else:\n",
    "                return scores[character]\n",
    "    return 0\n",
    "\n",
    "def solve(lines):\n",
    "    total = 0\n",
    "    for line in lines:\n",
    "        total += score_corrupted_line(line)\n",
    "    return total\n",
    "\n",
    "result = solve(lines)\n",
    "print(f\"{result=}\")\n",
    "\n"
   ]
  },
  {
   "cell_type": "code",
   "execution_count": 72,
   "metadata": {},
   "outputs": [
    {
     "name": "stdout",
     "output_type": "stream",
     "text": [
      "result=2421222841\n"
     ]
    }
   ],
   "source": [
    "# Part 2! Score incomplete lines.\n",
    "\n",
    "fpath = 'input.txt'\n",
    "# fpath = 'test.txt'\n",
    "# fpath = 'test2.txt'\n",
    "with open(fpath, 'r') as ifp:\n",
    "    lines = [list(l.strip()) for l in ifp.readlines()]\n",
    "\n",
    "scores = {\n",
    "    \")\": 1,\n",
    "    \"]\": 2,\n",
    "    \"}\": 3,\n",
    "    \">\": 4\n",
    "}\n",
    "\n",
    "openers = [ '(', '[', '{', '<' ]\n",
    "closers = list(scores.keys())\n",
    "\n",
    "\n",
    "def score_incomplete_lines(line):\n",
    "    stack = []\n",
    "    for character in line:\n",
    "        # print(f\"{stack=}\")\n",
    "        # print(f\"{character=}\")\n",
    "        # Case open a chunk\n",
    "        if character in openers:\n",
    "            stack.append(character)\n",
    "        # Case attempt to close a chunk\n",
    "        elif character in closers:\n",
    "            last_character = stack[len(stack)-1]\n",
    "            expected_character = closers[openers.index(last_character)]\n",
    "            # print(f\"{last_character=}, {expected_character=}\")\n",
    "            # If a valid close, do it!\n",
    "            if character == expected_character:\n",
    "                stack.pop()\n",
    "\n",
    "    # Close the residual characters in the stack\n",
    "    completion = []\n",
    "    while len(stack) > 0:\n",
    "        character = stack.pop()\n",
    "        closer = closers[openers.index(character)]\n",
    "        completion.append(closer)\n",
    "        \n",
    "    score = 0\n",
    "    for character in completion:\n",
    "        chr_score = scores[character]\n",
    "        score = (score * 5) + chr_score\n",
    "\n",
    "    # print(f\"{completion=}\")\n",
    "\n",
    "    return score\n",
    "\n",
    "def solve(lines):\n",
    "    line_scores = []\n",
    "    for line in lines:\n",
    "        if score_corrupted_line(line) > 0:\n",
    "            continue\n",
    "        # print(f'{line=}')\n",
    "        line_scores.append(score_incomplete_lines(line))\n",
    "        \n",
    "        \n",
    "    line_scores = sorted(line_scores)\n",
    "    median_idx = len(line_scores) // 2\n",
    "    median_score = line_scores[median_idx]\n",
    "    return median_score\n",
    "        \n",
    "\n",
    "result = solve(lines)\n",
    "print(f\"{result=}\")\n",
    "\n"
   ]
  }
 ],
 "metadata": {
  "interpreter": {
   "hash": "bd3fc4c4f111d42fe6948952a597d5c1da0786c802205a1a920cf67e9523417a"
  },
  "kernelspec": {
   "display_name": "Python 3.10.0 64-bit ('development': conda)",
   "language": "python",
   "name": "python3"
  },
  "language_info": {
   "codemirror_mode": {
    "name": "ipython",
    "version": 3
   },
   "file_extension": ".py",
   "mimetype": "text/x-python",
   "name": "python",
   "nbconvert_exporter": "python",
   "pygments_lexer": "ipython3",
   "version": "3.10.0"
  },
  "orig_nbformat": 4
 },
 "nbformat": 4,
 "nbformat_minor": 2
}
