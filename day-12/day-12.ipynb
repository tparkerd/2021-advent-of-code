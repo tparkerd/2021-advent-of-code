{
 "cells": [
  {
   "cell_type": "code",
   "execution_count": 21,
   "metadata": {},
   "outputs": [
    {
     "name": "stdout",
     "output_type": "stream",
     "text": [
      "result=3576\n"
     ]
    }
   ],
   "source": [
    "from collections import defaultdict\n",
    "import numpy as np\n",
    "import pandas as pd\n",
    "from pprint import pprint\n",
    "\n",
    "fpath = 'input.txt'\n",
    "# fpath = 'test.txt'\n",
    "# fpath = 'test2.txt'\n",
    "# fpath = 'test3.txt'\n",
    "\n",
    "graph = defaultdict(list)\n",
    "with open(fpath, 'r') as ifp:\n",
    "    for line in [l.strip() for l in ifp.readlines()]:\n",
    "        lhs, rhs = line.split(\"-\")\n",
    "        graph[lhs].append(rhs)\n",
    "        graph[rhs].append(lhs)\n",
    "\n",
    "# Part 1! Counts paths!\n",
    "def dfs(G, v, dest, visited, path=[], solutions=[]):\n",
    "    path.append(v)\n",
    "    # print(f\"Visiting '{v}'\\t{path=}\")\n",
    "    \n",
    "    if v == dest:\n",
    "        solutions.append(path.copy())\n",
    "        return\n",
    "    \n",
    "    # If it is a \"small\" cave, label it as visited\n",
    "    if v.lower() == v:\n",
    "        visited.add(v)\n",
    "\n",
    "    # Visit neighbors\n",
    "    for neighbor in [ w for w in G[v] if w not in visited ]:\n",
    "        dfs(G, neighbor, dest, visited, path, solutions)\n",
    "        \n",
    "        path.pop()\n",
    "        visited.discard(neighbor)\n",
    "    \n",
    "def solve(G, start=\"start\", end=\"end\"):\n",
    "    visited = set()\n",
    "    solutions = []\n",
    "    dfs(G, start, end, visited, solutions=solutions)\n",
    "    # pprint(solutions)\n",
    "    return len(solutions)\n",
    "\n",
    "result = solve(graph)\n",
    "print(f\"{result=}\")\n"
   ]
  },
  {
   "cell_type": "code",
   "execution_count": 70,
   "metadata": {},
   "outputs": [
    {
     "name": "stdout",
     "output_type": "stream",
     "text": [
      "result=84271\n"
     ]
    }
   ],
   "source": [
    "from collections import defaultdict\n",
    "import numpy as np\n",
    "import pandas as pd\n",
    "from pprint import pprint\n",
    "\n",
    "fpath = 'input.txt'\n",
    "# fpath = 'test.txt'\n",
    "# fpath = 'test2.txt'\n",
    "# fpath = 'test3.txt'\n",
    "\n",
    "graph = defaultdict(list)\n",
    "with open(fpath, 'r') as ifp:\n",
    "    for line in [l.strip() for l in ifp.readlines()]:\n",
    "        lhs, rhs = line.split(\"-\")\n",
    "        graph[lhs].append(rhs)\n",
    "        graph[rhs].append(lhs)\n",
    "\n",
    "# Part 2! Counts paths with strange visitation rules!\n",
    "def dfs(G, v, dest, visited, path=[], solutions=[]):\n",
    "    global shortcircuit\n",
    "    path.append(v)\n",
    "    # print(f\"Visiting '{v}'\\t{path=}\")\n",
    "\n",
    "    if v == dest:\n",
    "        solutions.append(path.copy())\n",
    "        return\n",
    "\n",
    "    # If it is a \"small\" cave, label it as visited\n",
    "    if v.lower() == v:\n",
    "        visited[v] += 1\n",
    "        # Base case: cannot visit a small node more then twice\n",
    "        if visited[v] > 2:\n",
    "            return\n",
    "\n",
    "    # Base case: cannot visit start or end node more than once\n",
    "    if visited[\"start\"] > 1 or visited[dest] > 1:\n",
    "        return\n",
    "\n",
    "    # Base case: exceeds double visitation on at least one node\n",
    "    # More than one small cave as been visited more than once\n",
    "    small_caves_visited = { k: v for k, v in visited.items() if k.lower() == k }\n",
    "    if len([ value for value in small_caves_visited.values() if value > 1 ]) > 1:\n",
    "        return\n",
    "\n",
    "    # Visit neighbors\n",
    "    for neighbor in G[v]:\n",
    "        # Go deeper!\n",
    "        dfs(G, neighbor, dest, visited, path, solutions)\n",
    "\n",
    "        # Backtrack\n",
    "        path.pop()\n",
    "        visited[neighbor] = max(0, visited[neighbor]-1)  # guard against excessive backtracking\n",
    "\n",
    "def solve(G, start=\"start\", end=\"end\"):\n",
    "    visited = defaultdict(int)\n",
    "    solutions = []\n",
    "    dfs(G, start, end, visited, solutions=solutions)\n",
    "    # for s in solutions:\n",
    "    #     print(','.join(s))\n",
    "    return len(solutions)\n",
    "\n",
    "result = solve(graph)\n",
    "print(f\"{result=}\")\n"
   ]
  }
 ],
 "metadata": {
  "interpreter": {
   "hash": "bd3fc4c4f111d42fe6948952a597d5c1da0786c802205a1a920cf67e9523417a"
  },
  "kernelspec": {
   "display_name": "Python 3.10.0 64-bit ('development': conda)",
   "language": "python",
   "name": "python3"
  },
  "language_info": {
   "codemirror_mode": {
    "name": "ipython",
    "version": 3
   },
   "file_extension": ".py",
   "mimetype": "text/x-python",
   "name": "python",
   "nbconvert_exporter": "python",
   "pygments_lexer": "ipython3",
   "version": "3.10.0"
  },
  "orig_nbformat": 4
 },
 "nbformat": 4,
 "nbformat_minor": 2
}
