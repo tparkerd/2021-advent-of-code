{
 "cells": [
  {
   "cell_type": "code",
   "execution_count": 20,
   "metadata": {},
   "outputs": [],
   "source": [
    "import re\n",
    "fpath = \"input.txt\"\n",
    "\n",
    "def parse(line):\n",
    "    pattern = r\"^(?P<direction>\\S+)\\s+(?P<amount>\\d+)\"\n",
    "    m = re.match(pattern, line)\n",
    "    if m is not None:\n",
    "        return (m.group(\"direction\"), int(m.group(\"amount\")))\n",
    "    \n",
    "with open(fpath, 'r') as ifp:\n",
    "    data = ifp.readlines()\n",
    "    data = list(map(parse, data))"
   ]
  },
  {
   "cell_type": "code",
   "execution_count": 21,
   "metadata": {},
   "outputs": [
    {
     "name": "stdout",
     "output_type": "stream",
     "text": [
      "X=1817\n",
      "Y=1072\n",
      "X*Y=1947824\n"
     ]
    }
   ],
   "source": [
    "# Initialize state\n",
    "X = 0\n",
    "Y = 0\n",
    "\n",
    "# PART 1\n",
    "# NOTE(tparker): Remember that DOWN increases depth (Y) and UP\n",
    "#   decreases depth (Y).\n",
    "for action, amount in data:\n",
    "    if action == \"forward\":\n",
    "        X += amount\n",
    "    elif action == \"down\":\n",
    "        Y += amount\n",
    "    elif action == \"up\":\n",
    "        Y -= amount\n",
    "\n",
    "print(f\"{X=}\")\n",
    "print(f\"{Y=}\")\n",
    "print(f\"{X*Y=}\")\n",
    "\n",
    "# Correct answer:\n",
    "# # X=1817\n",
    "# # Y=1072\n",
    "# # X*Y=1947824\n",
    "    "
   ]
  },
  {
   "cell_type": "code",
   "execution_count": 22,
   "metadata": {},
   "outputs": [
    {
     "name": "stdout",
     "output_type": "stream",
     "text": [
      "X=1817\n",
      "Y=997833\n",
      "X*Y=1813062561\n"
     ]
    }
   ],
   "source": [
    "# PART 2\n",
    "X = 0\n",
    "Y = 0\n",
    "aim = 0\n",
    "\n",
    "for action, amount in data:\n",
    "    if action == \"down\":\n",
    "        aim += amount\n",
    "    elif action == \"up\":\n",
    "        aim -= amount\n",
    "    elif action == \"forward\":\n",
    "        X += amount\n",
    "        Y += aim * amount\n",
    "\n",
    "print(f\"{X=}\")\n",
    "print(f\"{Y=}\")\n",
    "print(f\"{X*Y=}\")"
   ]
  }
 ],
 "metadata": {
  "interpreter": {
   "hash": "ddb7658f821b12f3f65f5f9dbd54c388873fd76a4d441c88a33176ac62030219"
  },
  "kernelspec": {
   "display_name": "Python 3.9.6 64-bit ('dev': conda)",
   "language": "python",
   "name": "python3"
  },
  "language_info": {
   "codemirror_mode": {
    "name": "ipython",
    "version": 3
   },
   "file_extension": ".py",
   "mimetype": "text/x-python",
   "name": "python",
   "nbconvert_exporter": "python",
   "pygments_lexer": "ipython3",
   "version": "3.9.6"
  },
  "orig_nbformat": 4
 },
 "nbformat": 4,
 "nbformat_minor": 2
}
