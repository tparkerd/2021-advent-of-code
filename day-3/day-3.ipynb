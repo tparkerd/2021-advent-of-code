{
 "cells": [
  {
   "cell_type": "code",
   "execution_count": 129,
   "metadata": {},
   "outputs": [
    {
     "name": "stdout",
     "output_type": "stream",
     "text": [
      "width=12\n",
      "height=1000\n",
      "gamma_rate=array([0, 0, 0, 1, 1, 0, 1, 0, 0, 0, 1, 1], dtype=uint8)\n",
      "epsilon_rate=array([1, 1, 1, 0, 0, 1, 0, 1, 1, 1, 0, 0], dtype=uint8)\n"
     ]
    }
   ],
   "source": [
    "import pandas as pd\n",
    "import numpy as np\n",
    "\n",
    "# fpath = 'test.txt'\n",
    "fpath = 'input.txt'\n",
    "data = []\n",
    "with open(fpath, 'r') as ifp:\n",
    "    for line in ifp.readlines():\n",
    "        data.append([ int(x) for x in list(line.strip()) ])\n",
    "\n",
    "data = np.array(data)\n",
    "\n",
    "height, width = data.shape\n",
    "print(f\"{width=}\")\n",
    "print(f\"{height=}\")\n",
    "\n",
    "gamma_rate = np.zeros(width, dtype=np.uint8)\n",
    "epsilon_rate = np.zeros(width, dtype=np.uint8)\n",
    "\n",
    "for col in range(width):\n",
    "    ones = np.count_nonzero(data[:, col])\n",
    "    zeros = height - ones\n",
    "    \n",
    "    # Most common bit & least common bit\n",
    "    if ones > zeros:\n",
    "        mcb = 1\n",
    "        lcb = 0\n",
    "    else:\n",
    "        mcb = 0\n",
    "        lcb = 1\n",
    "        \n",
    "    # print(f\"Column #{col}: {mcb=}, {lcb=} [{zeros=}, {ones=}]\")\n",
    "    gamma_rate[col] = mcb\n",
    "    epsilon_rate[col] = lcb\n",
    "\n",
    "print(f\"{gamma_rate=}\")\n",
    "print(f\"{epsilon_rate=}\")"
   ]
  },
  {
   "cell_type": "code",
   "execution_count": 130,
   "metadata": {},
   "outputs": [
    {
     "name": "stdout",
     "output_type": "stream",
     "text": [
      "gamma_rate=419*epsilon_rate=3676 = 1540244\n"
     ]
    }
   ],
   "source": [
    "def arr2dec(a):\n",
    "    s = ''.join(map(str, a.tolist()))\n",
    "    return int(s, 2)\n",
    "\n",
    "gamma_rate = arr2dec(gamma_rate)\n",
    "epsilon_rate = arr2dec(epsilon_rate)\n",
    "print(f\"{gamma_rate=}*{epsilon_rate=} = {gamma_rate * epsilon_rate}\")"
   ]
  },
  {
   "cell_type": "code",
   "execution_count": 131,
   "metadata": {},
   "outputs": [
    {
     "name": "stdout",
     "output_type": "stream",
     "text": [
      "width=12\n",
      "height=1000\n"
     ]
    }
   ],
   "source": [
    "# Part 2\n",
    "\n",
    "# fpath = 'test.txt'\n",
    "fpath = 'input.txt'\n",
    "data = []\n",
    "with open(fpath, 'r') as ifp:\n",
    "    for line in ifp.readlines():\n",
    "        data.append([ int(x) for x in list(line.strip()) ])\n",
    "\n",
    "data = np.array(data)\n",
    "\n",
    "height, width = data.shape\n",
    "print(f\"{width=}\")\n",
    "print(f\"{height=}\")\n"
   ]
  },
  {
   "cell_type": "code",
   "execution_count": 132,
   "metadata": {},
   "outputs": [
    {
     "data": {
      "text/plain": [
       "array([[1, 0, 0, ..., 0, 1, 1],\n",
       "       [1, 0, 0, ..., 1, 0, 1],\n",
       "       [1, 0, 1, ..., 0, 1, 0],\n",
       "       ...,\n",
       "       [1, 1, 0, ..., 0, 0, 0],\n",
       "       [1, 0, 0, ..., 1, 1, 0],\n",
       "       [1, 1, 0, ..., 1, 1, 0]])"
      ]
     },
     "execution_count": 132,
     "metadata": {},
     "output_type": "execute_result"
    }
   ],
   "source": [
    "data[data[:,0] == 1]"
   ]
  },
  {
   "cell_type": "code",
   "execution_count": 133,
   "metadata": {},
   "outputs": [
    {
     "name": "stdout",
     "output_type": "stream",
     "text": [
      "[[0 1 0 0 1 0 0 0 1 0 0 1]]\n",
      "[[1 1 1 0 0 0 1 0 0 1 0 1]]\n",
      "oxygen_generator_rating=1161\n",
      "co2_scrubber_rate=3621\n",
      "Solution: 4203981\n"
     ]
    }
   ],
   "source": [
    "# For each column\n",
    "def solve(mat, col=0, filter=None):\n",
    "    \"\"\"Given a matrix, find value\"\"\"\n",
    "    if filter is None:\n",
    "        return\n",
    "    \n",
    "    height, width = mat.shape\n",
    "    \n",
    "    # Base case: only one value left\n",
    "    if height < 2:\n",
    "        print(mat)\n",
    "        return arr2dec(mat[0])\n",
    "    \n",
    "    ones = len(mat[mat[:, col] == 1])\n",
    "    zeros = len(mat[mat[:, col] == 0])\n",
    "    \n",
    "    flag = None\n",
    "    \n",
    "    if filter == \"oxygen\":\n",
    "        if ones == zeros:\n",
    "            flag = 1\n",
    "        elif ones > zeros:\n",
    "            flag = 1\n",
    "        else:\n",
    "            flag = 0\n",
    "\n",
    "    elif filter == \"co2\":\n",
    "        if ones == zeros:\n",
    "            flag = 0\n",
    "        elif ones > zeros:\n",
    "            flag = 0\n",
    "        else:\n",
    "            flag = 1\n",
    "\n",
    "    else:\n",
    "        return\n",
    "    \n",
    "    return solve(mat[mat[:, col] == flag], col+1, filter)\n",
    "\n",
    "oxygen_generator_rating = solve(data, filter=\"oxygen\")\n",
    "co2_scrubber_rate = solve(data, filter=\"co2\")\n",
    "\n",
    "print(f\"{oxygen_generator_rating=}\")\n",
    "print(f\"{co2_scrubber_rate=}\")\n",
    "print(f\"Solution: {oxygen_generator_rating * co2_scrubber_rate}\")"
   ]
  }
 ],
 "metadata": {
  "interpreter": {
   "hash": "bd3fc4c4f111d42fe6948952a597d5c1da0786c802205a1a920cf67e9523417a"
  },
  "kernelspec": {
   "display_name": "Python 3.10.0 64-bit ('development': conda)",
   "language": "python",
   "name": "python3"
  },
  "language_info": {
   "codemirror_mode": {
    "name": "ipython",
    "version": 3
   },
   "file_extension": ".py",
   "mimetype": "text/x-python",
   "name": "python",
   "nbconvert_exporter": "python",
   "pygments_lexer": "ipython3",
   "version": "3.10.0"
  },
  "orig_nbformat": 4
 },
 "nbformat": 4,
 "nbformat_minor": 2
}
