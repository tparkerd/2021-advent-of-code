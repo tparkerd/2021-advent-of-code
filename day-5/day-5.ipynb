{
 "cells": [
  {
   "cell_type": "code",
   "execution_count": 7,
   "metadata": {},
   "outputs": [],
   "source": [
    "import numpy as np\n",
    "\n",
    "fpath = 'test.txt'\n",
    "fpath = 'input.txt'\n",
    "# fpath = \"test2.txt\"\n",
    "\n",
    "orthogonal_lines = []\n",
    "lines = []\n",
    "dims = [0, 0]\n",
    "with open(fpath, 'r') as ifp:\n",
    "    for l in [line.strip() for line in ifp.readlines()]:\n",
    "        if l.startswith('#'):\n",
    "            continue\n",
    "        start, end = [ coords.strip().split(',') for coords in l.split('->') ]\n",
    "        start = dict( x=int(start[0]), y=int(start[1]) )\n",
    "        end = dict( x=int(end[0]), y=int(end[1]) )\n",
    "        line = (start, end)\n",
    "        # print(f\"{line=}\")\n",
    "        \n",
    "        # Get maximum dimensions to display grid\n",
    "        xrange = [ start[\"x\"], end[\"x\"] ]\n",
    "        yrange = [ start[\"y\"], end[\"y\"] ]\n",
    "        \n",
    "        # Adjust dimensions on grid\n",
    "        if dims[0] < max(xrange):\n",
    "            dims[0] = max(xrange)\n",
    "        if dims[1] < max(yrange):\n",
    "            dims[1] = max(yrange)\n",
    "            \n",
    "        # print(f\"{dims=}\")\n",
    "        \n",
    "        lines.append((start, end))\n",
    "        # If orthogonal, store it specially!\n",
    "        if start[\"x\"] == end[\"x\"] or start[\"y\"] == end[\"y\"]:\n",
    "            orthogonal_lines.append((start, end))\n",
    "            \n",
    "dims = list(map(lambda x: x+1, dims))"
   ]
  },
  {
   "cell_type": "code",
   "execution_count": 8,
   "metadata": {},
   "outputs": [
    {
     "data": {
      "text/plain": [
       "array([[0, 0, 0, ..., 0, 0, 0],\n",
       "       [0, 0, 0, ..., 0, 0, 0],\n",
       "       [0, 0, 0, ..., 0, 0, 0],\n",
       "       ...,\n",
       "       [0, 0, 0, ..., 0, 0, 0],\n",
       "       [0, 0, 0, ..., 0, 0, 0],\n",
       "       [0, 0, 0, ..., 0, 0, 0]], dtype=uint8)"
      ]
     },
     "execution_count": 8,
     "metadata": {},
     "output_type": "execute_result"
    }
   ],
   "source": [
    "grid = np.zeros(shape=dims, dtype=np.uint8)\n",
    "for oline in orthogonal_lines:\n",
    "    # print(f\"{oline=}\")\n",
    "    start, end = oline\n",
    "    # Adjust the starting points to deal with quirks in numpy indexing\n",
    "    # NOTE(tparker): Slicing always starts with the lower value in numpy\n",
    "    ys = sorted([start[\"y\"], end[\"y\"]])\n",
    "    ys[1] += 1\n",
    "    xs = sorted([start[\"x\"], end[\"x\"]])\n",
    "    xs[1] += 1\n",
    "    grid[ys[0]:ys[1], xs[0]:xs[1]] += 1\n",
    "\n",
    "grid"
   ]
  },
  {
   "cell_type": "code",
   "execution_count": 9,
   "metadata": {},
   "outputs": [
    {
     "name": "stdout",
     "output_type": "stream",
     "text": [
      "Number of points where 2 or more lines intersect: 6572\n"
     ]
    }
   ],
   "source": [
    "# Count the number of points greater than 1\n",
    "coords = np.where(grid > 1)\n",
    "result = len(coords[0])\n",
    "print(f\"Number of points where 2 or more lines intersect: {result}\")"
   ]
  },
  {
   "cell_type": "code",
   "execution_count": 10,
   "metadata": {},
   "outputs": [],
   "source": [
    "# Part 2: Include diagonal lines!\n",
    "lines = []\n",
    "dims = [0, 0]\n",
    "with open(fpath, 'r') as ifp:\n",
    "    for l in [line.strip() for line in ifp.readlines()]:\n",
    "        if l.startswith('#'):\n",
    "            continue\n",
    "        start, end = [ coords.strip().split(',') for coords in l.split('->') ]\n",
    "        start = dict( x=int(start[0]), y=int(start[1]) )\n",
    "        end = dict( x=int(end[0]), y=int(end[1]) )\n",
    "        line = (start, end)\n",
    "        # print(f\"{line=}\")\n",
    "        \n",
    "        # Get maximum dimensions to display grid\n",
    "        xrange = [ start[\"x\"], end[\"x\"] ]\n",
    "        yrange = [ start[\"y\"], end[\"y\"] ]\n",
    "        \n",
    "        # Adjust dimensions on grid\n",
    "        if dims[0] < max(xrange):\n",
    "            dims[0] = max(xrange)\n",
    "        if dims[1] < max(yrange):\n",
    "            dims[1] = max(yrange)\n",
    "            \n",
    "        lines.append(line)\n",
    "\n",
    "dims = list(map(lambda x: x+1, dims))"
   ]
  },
  {
   "cell_type": "code",
   "execution_count": 11,
   "metadata": {},
   "outputs": [
    {
     "name": "stdout",
     "output_type": "stream",
     "text": [
      "(991, 991)\n"
     ]
    },
    {
     "data": {
      "text/plain": [
       "array([[0, 0, 0, ..., 0, 0, 0],\n",
       "       [0, 0, 0, ..., 0, 0, 0],\n",
       "       [0, 0, 0, ..., 0, 0, 0],\n",
       "       ...,\n",
       "       [0, 0, 0, ..., 0, 0, 0],\n",
       "       [0, 0, 0, ..., 0, 0, 0],\n",
       "       [0, 0, 0, ..., 0, 0, 0]], dtype=uint8)"
      ]
     },
     "execution_count": 11,
     "metadata": {},
     "output_type": "execute_result"
    }
   ],
   "source": [
    "# Construct grid\n",
    "grid = np.zeros(shape=dims, dtype=np.uint8)\n",
    "\n",
    "def isOrthogonal(line):\n",
    "    start, end = line\n",
    "    return start[\"x\"] == end[\"x\"] or start[\"y\"] == end[\"y\"]\n",
    "\n",
    "def isDiagonal(line):\n",
    "    start, end = line\n",
    "    return abs(start[\"x\"] - end[\"x\"]) == abs(start[\"y\"] - end[\"y\"])\n",
    "\n",
    "# Update points\n",
    "for line in lines:\n",
    "    # print(f\"{line=}\")\n",
    "    start, end = line\n",
    "    \n",
    "    # Orthogonal lines\n",
    "    if isOrthogonal(line):\n",
    "        posx = start[\"x\"]\n",
    "        posy = start[\"y\"]\n",
    "        # If vertical (column)\n",
    "        if start[\"x\"] == end[\"x\"]:\n",
    "            while posy != end[\"y\"]:\n",
    "                grid[posy,posx] += 1\n",
    "                # Move down\n",
    "                if posy < end[\"y\"]:\n",
    "                    posy += 1\n",
    "                # Move up\n",
    "                if posy > end[\"y\"]:\n",
    "                    posy -= 1\n",
    "            grid[posy,posx] += 1\n",
    "            \n",
    "        # If horizontal (row)\n",
    "        if start[\"y\"] == end[\"y\"]:\n",
    "            while posx != end[\"x\"]:\n",
    "                grid[posy,posx] += 1\n",
    "                # Move right\n",
    "                if posx < end[\"x\"]:\n",
    "                    posx += 1\n",
    "                # Move left\n",
    "                if posx > end[\"x\"]:\n",
    "                    posx -= 1\n",
    "            grid[posy,posx] += 1\n",
    "        \n",
    "    # Diagonal lines\n",
    "    elif isDiagonal(line):\n",
    "        posx = start[\"x\"]\n",
    "        posy = start[\"y\"]\n",
    "        while posx != end[\"x\"] and posy != end[\"y\"]:\n",
    "            grid[posy, posx] += 1\n",
    "            # Move south-east\n",
    "            if posx < end[\"x\"] and posy < end[\"y\"]:\n",
    "                posx += 1\n",
    "                posy += 1\n",
    "            # Move south-west\n",
    "            elif posx > end[\"x\"] and posy < end[\"y\"]:\n",
    "                posx -= 1\n",
    "                posy += 1\n",
    "            # Move north-west\n",
    "            elif posx > end[\"x\"] and posy > end[\"y\"]:\n",
    "                posx -= 1\n",
    "                posy -= 1\n",
    "            # Move north-east\n",
    "            elif posx < end[\"x\"] and posy > end[\"y\"]:\n",
    "                posx += 1\n",
    "                posy -= 1\n",
    "        \n",
    "        grid[posy, posx] += 1\n",
    "        \n",
    "            \n",
    "print(f\"{grid.shape}\")\n",
    "grid"
   ]
  },
  {
   "cell_type": "code",
   "execution_count": 12,
   "metadata": {},
   "outputs": [
    {
     "name": "stdout",
     "output_type": "stream",
     "text": [
      "Number of points where 2 or more lines intersect: 21466\n"
     ]
    }
   ],
   "source": [
    "# Count the number of points greater than 1\n",
    "coords = np.where(grid > 1)\n",
    "result = len(coords[0])\n",
    "print(f\"Number of points where 2 or more lines intersect: {result}\")\n",
    "\n",
    "# Guess #1: 21517 (too high)\n",
    "# Guess #2: 21486 (too high)\n",
    "# Guess #3: 21466 (CORRECT)"
   ]
  }
 ],
 "metadata": {
  "interpreter": {
   "hash": "bd3fc4c4f111d42fe6948952a597d5c1da0786c802205a1a920cf67e9523417a"
  },
  "kernelspec": {
   "display_name": "Python 3.10.0 64-bit ('development': conda)",
   "language": "python",
   "name": "python3"
  },
  "language_info": {
   "codemirror_mode": {
    "name": "ipython",
    "version": 3
   },
   "file_extension": ".py",
   "mimetype": "text/x-python",
   "name": "python",
   "nbconvert_exporter": "python",
   "pygments_lexer": "ipython3",
   "version": "3.10.0"
  },
  "orig_nbformat": 4
 },
 "nbformat": 4,
 "nbformat_minor": 2
}
